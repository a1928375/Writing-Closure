{
 "cells": [
  {
   "cell_type": "markdown",
   "metadata": {},
   "source": [
    "# Mine"
   ]
  },
  {
   "cell_type": "code",
   "execution_count": 8,
   "metadata": {},
   "outputs": [
    {
     "name": "stdout",
     "output_type": "stream",
     "text": [
      "True\n",
      "True\n",
      "True\n",
      "1.99 µs ± 629 ns per loop (mean ± std. dev. of 7 runs, 1000000 loops each)\n"
     ]
    }
   ],
   "source": [
    "def closure (grammar, i, x, ab, cd):\n",
    "    \n",
    "    states = []\n",
    "    \n",
    "    for rule in grammar:\n",
    "        \n",
    "        if cd[0] == rule[0] and cd != []:\n",
    "            \n",
    "            states.append((x,[] ,rule[1],i))\n",
    "    \n",
    "    return states\n",
    "\n",
    "\n",
    "grammar = [ \n",
    "    (\"exp\", [\"exp\", \"+\", \"exp\"]),\n",
    "    (\"exp\", [\"exp\", \"-\", \"exp\"]),\n",
    "    (\"exp\", [\"(\", \"exp\", \")\"]),\n",
    "    (\"exp\", [\"num\"]),\n",
    "    (\"t\",[\"I\",\"like\",\"t\"]),\n",
    "    (\"t\",[\"\"])\n",
    "    ]\n",
    "\n",
    "print (closure(grammar,0,\"exp\",[\"exp\",\"+\"],[\"exp\"]) == [('exp', [], ['exp', '+', 'exp'], 0), ('exp', [], ['exp', '-', 'exp'], 0), ('exp', [], ['(', 'exp', ')'], 0), ('exp', [], ['num'], 0)])\n",
    "print (closure(grammar,0,\"exp\",[],[\"exp\",\"+\",\"exp\"]) == [('exp', [], ['exp', '+', 'exp'], 0), ('exp', [], ['exp', '-', 'exp'], 0), ('exp', [], ['(', 'exp', ')'], 0), ('exp', [], ['num'], 0)])\n",
    "print (closure(grammar,0,\"exp\",[\"exp\"],[\"+\",\"exp\"]) == [])\n",
    "\n",
    "%timeit closure(grammar,0,\"exp\",[\"exp\",\"+\"],[\"exp\"])\n"
   ]
  },
  {
   "cell_type": "markdown",
   "metadata": {},
   "source": [
    "# Instructor\n",
    "# list comprehension"
   ]
  },
  {
   "cell_type": "code",
   "execution_count": 9,
   "metadata": {},
   "outputs": [
    {
     "name": "stdout",
     "output_type": "stream",
     "text": [
      "True\n",
      "True\n",
      "True\n",
      "2.74 µs ± 15.8 ns per loop (mean ± std. dev. of 7 runs, 100000 loops each)\n"
     ]
    }
   ],
   "source": [
    "def closure2(grammar, i, x,ab,cd):\n",
    "    \n",
    "    next_states = [ (rule[0], [], rule[1], i) for rule in grammar \n",
    "    if cd != [] and rule[0] == cd[0]]\n",
    "    \n",
    "    return next_states\n",
    "    \n",
    "grammar = [ \n",
    "    (\"exp\", [\"exp\", \"+\", \"exp\"]),\n",
    "    (\"exp\", [\"exp\", \"-\", \"exp\"]),\n",
    "    (\"exp\", [\"(\", \"exp\", \")\"]),\n",
    "    (\"exp\", [\"num\"]),\n",
    "    (\"t\",[\"I\",\"like\",\"t\"]),\n",
    "    (\"t\",[\"\"])\n",
    "    ]\n",
    "\n",
    "print (closure2(grammar,0,\"exp\",[\"exp\",\"+\"],[\"exp\"]) == [('exp', [], ['exp', '+', 'exp'], 0), ('exp', [], ['exp', '-', 'exp'], 0), ('exp', [], ['(', 'exp', ')'], 0), ('exp', [], ['num'], 0)])\n",
    "print (closure2(grammar,0,\"exp\",[],[\"exp\",\"+\",\"exp\"]) == [('exp', [], ['exp', '+', 'exp'], 0), ('exp', [], ['exp', '-', 'exp'], 0), ('exp', [], ['(', 'exp', ')'], 0), ('exp', [], ['num'], 0)])\n",
    "print (closure2(grammar,0,\"exp\",[\"exp\"],[\"+\",\"exp\"]) == [])\n",
    "\n",
    "%timeit closure2(grammar,0,\"exp\",[\"exp\",\"+\"],[\"exp\"])\n"
   ]
  }
 ],
 "metadata": {
  "kernelspec": {
   "display_name": "Python 3",
   "language": "python",
   "name": "python3"
  },
  "language_info": {
   "codemirror_mode": {
    "name": "ipython",
    "version": 3
   },
   "file_extension": ".py",
   "mimetype": "text/x-python",
   "name": "python",
   "nbconvert_exporter": "python",
   "pygments_lexer": "ipython3",
   "version": "3.7.3"
  }
 },
 "nbformat": 4,
 "nbformat_minor": 2
}
